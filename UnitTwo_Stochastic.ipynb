{
 "cells": [
  {
   "cell_type": "code",
   "execution_count": 62,
   "metadata": {},
   "outputs": [
    {
     "name": "stdout",
     "output_type": "stream",
     "text": [
      "2321535652\n"
     ]
    }
   ],
   "source": [
    "import random\n",
    "# random.seed(0)  #Set this tp help in debugging. Always gives same output\n",
    "\n",
    "\n",
    "def rollDie():\n",
    "    return random.choice([1,2,3,4,5,6])\n",
    "\n",
    "def testRoll(n=10):\n",
    "    \n",
    "    result =''\n",
    "    \n",
    "    for i in range(n):\n",
    "        result += str(rollDie())\n",
    "        \n",
    "    print(result)\n",
    "\n",
    "testRoll()"
   ]
  },
  {
   "cell_type": "code",
   "execution_count": 63,
   "metadata": {},
   "outputs": [
    {
     "data": {
      "text/plain": [
       "38"
      ]
     },
     "execution_count": 63,
     "metadata": {},
     "output_type": "execute_result"
    }
   ],
   "source": [
    "\n",
    "def genEven():\n",
    "    '''\n",
    "    Returns a random even number x, where 0 <= x < 100\n",
    "    '''\n",
    "    L = [2*x for x in range(0,50)]\n",
    "    \n",
    "    return random.choice(L)   \n",
    "\n",
    "genEven()"
   ]
  },
  {
   "cell_type": "code",
   "execution_count": 67,
   "metadata": {},
   "outputs": [
    {
     "name": "stdout",
     "output_type": "stream",
     "text": [
      "Actual probability =  0.0001286\n",
      "Estimated Probability =  0.00013\n"
     ]
    }
   ],
   "source": [
    "def runSim(goal, numTrials):\n",
    "    \n",
    "    total = 0\n",
    "    \n",
    "    for i in range(numTrials):\n",
    "        result = ''\n",
    "        for j in range(len(goal)):\n",
    "            result += str(rollDie())\n",
    "            \n",
    "        if result == goal:\n",
    "            total += 1\n",
    "            \n",
    "    print(\"Actual probability = \", round(1/(6**len(goal)),8))\n",
    "    \n",
    "    estimateProb = round(total/numTrials, 8)\n",
    "    \n",
    "    print(\"Estimated Probability = \", round(estimateProb, 16))\n",
    "    \n",
    "runSim('11111', 1000000)"
   ]
  },
  {
   "cell_type": "code",
   "execution_count": 76,
   "metadata": {},
   "outputs": [
    {
     "name": "stdout",
     "output_type": "stream",
     "text": [
      "Frequency of double 6 =  2.732%\n",
      "Freq of double 6 as per closed form =  2.7777777777777777%\n"
     ]
    }
   ],
   "source": [
    "def fracBoxCars(numTests):\n",
    "    # BoxCar ==> dice1 = 6 and dice2 = 6\n",
    "    numBoxCars = 0\n",
    "    for i in range(numTests):\n",
    "        if rollDie() == 6 and rollDie() == 6:\n",
    "            numBoxCars += 1\n",
    "    return numBoxCars/numTests\n",
    "\n",
    "print('Frequency of double 6 = ', str(fracBoxCars(100000) * 100) + '%')\n",
    "print(\"Freq of double 6 as per closed form = \", str((1/6)*(1/6)*100) + '%')\n",
    "\n",
    "# So estimated prob and closed form prob are almost the same"
   ]
  },
  {
   "cell_type": "markdown",
   "metadata": {},
   "source": [
    "# Random Walks"
   ]
  },
  {
   "cell_type": "code",
   "execution_count": 1,
   "metadata": {},
   "outputs": [],
   "source": [
    "class Location(object):\n",
    "    \n",
    "    def __init__(self, x, y):\n",
    "        \"\"\"\n",
    "        x, y: float\n",
    "        \"\"\"\n",
    "        \n",
    "        self.x = x\n",
    "        self.y = y\n",
    "        \n",
    "    def move(self, deltaX, deltaY):\n",
    "        \"\"\"\n",
    "        deltaX and deltaY are floats\n",
    "        \n",
    "        \"\"\"\n",
    "        return Location(self.x+deltaX, self.y+deltaY)\n",
    "    \n",
    "    def getX(self):\n",
    "        return self.x\n",
    "    \n",
    "    def getY(self):\n",
    "        return self.y\n",
    "    \n",
    "    def distFrom(self, other):\n",
    "        \n",
    "        ox = other.x\n",
    "        oy = other.y\n",
    "        \n",
    "        xDist = self.x - ox\n",
    "        yDist = self.y -oy\n",
    "        \n",
    "        return (xDist**2 + yDist**2)**0.5\n",
    "    \n",
    "    def __str__(self):\n",
    "        \n",
    "        return '<'+ str(self.x) + ', ' + str(self.y) + '>'\n",
    "    \n",
    "class Field(object):\n",
    "    \"\"\"\n",
    "    Field contains a dict mapping drunks to their locations on the field\n",
    "    \"\"\"\n",
    "    \n",
    "    def __init__(self):\n",
    "        self.drunks = {}\n",
    "        \n",
    "    def addDrunk(self, drunk, loc):\n",
    "        if drunk in self.drunks:\n",
    "            raise ValueError('Duplicate Drunk')\n",
    "        else:\n",
    "            self.drunks[drunk] = loc\n",
    "            \n",
    "    def getLoc(self, drunk):\n",
    "        if drunk not in self.drunks:\n",
    "            raise ValueError('Drunk not in field')\n",
    "        return self.drunks[drunk]\n",
    "    \n",
    "    def moveDrunk(self, drunk):\n",
    "        \n",
    "        # Drunk needs to be in field to move him\n",
    "        if drunk not in self.drunks:\n",
    "            raise ValueError('Drunk not in field')\n",
    "            \n",
    "        # takeStep method from drunk class\n",
    "        xDist, yDist = drunk.takeStep()\n",
    "        currentLocation = self.drunks[drunk]\n",
    "        \n",
    "        # using move method from Location class \n",
    "        self.drunks[drunk] = currentLocation.move(xDist, yDist)\n",
    "        \n",
    "class Drunk(object):\n",
    "    # Base class to be inherited by subclasses\n",
    "    \n",
    "    def __init__(self, name = None):\n",
    "        self.name = name\n",
    "        \n",
    "    def __str__(self, name):\n",
    "        return \"This drunk is named\" + self.name\n",
    "\n",
    "import random\n",
    "class UsualDrunk(Drunk):\n",
    "    \n",
    "    def takeStep(self):\n",
    "        stepChoices = [(0.0, 1.0), (0.0, -1.0), (1.0, 0.0), (-1.0, 0.0)]\n",
    "        return random.choice(stepChoices)\n",
    "    \n",
    "class ColdDrunk(Drunk):\n",
    "    \n",
    "    def takeStep(self):\n",
    "        \"\"\"\n",
    "        Largest step taken in South direction where it is supposed to be warmer\n",
    "        \"\"\"\n",
    "        \n",
    "        stepChoices =[(0.0, 0.9), (0.0, -1.1), (1.0, 0.0), (-1.0, 0.0)]\n",
    "        return random.choice(stepChoices)"
   ]
  },
  {
   "cell_type": "code",
   "execution_count": 2,
   "metadata": {},
   "outputs": [],
   "source": [
    "def walk(f, d, numSteps):\n",
    "    \"\"\"\n",
    "    f: a Field, d: a Drunk in f, numSteps: int >= 0\n",
    "    \n",
    "    Moves d numSteps times; \n",
    "    \n",
    "    returns the distance between the final location and the location at the start of walk.\n",
    "    \"\"\"\n",
    "    \n",
    "    start = f.getLoc(d)\n",
    "    for s in range(numSteps):\n",
    "        f.moveDrunk(d)\n",
    "    return start.distFrom(f.getLoc(d))\n",
    "\n",
    "def simWalks(numSteps,numTrials, dClass):\n",
    "    \"\"\"\n",
    "    numStep, numTrials: int >= 0\n",
    "    dClass: subClass of Drunk\n",
    "    \n",
    "    simulates numTrials walks of numSteps steps each.\n",
    "    returns list of final distances for each trial\n",
    "    \"\"\"\n",
    "    \n",
    "    Homer = dClass()\n",
    "    origin = Location(0,0)\n",
    "    distances = []\n",
    "    \n",
    "    for t in range(numTrials):\n",
    "        \n",
    "        f = Field()\n",
    "        f.addDrunk(Homer, origin)\n",
    "        distances.append(round(walk(f, Homer, numSteps), 1))\n",
    "    \n",
    "    return distances\n",
    "\n",
    "def drunkTest(walkLengths, numTrials, dClass):\n",
    "    \"\"\"\n",
    "    walkLengths: sequence of ints >= 0\n",
    "    numTrials: int > 0\n",
    "    dClass: a subClass of Drunk\n",
    "    for each numSteps in walkLengths:\n",
    "        run simWalks with numTrials\n",
    "        prints results\n",
    "    \"\"\"\n",
    "    \n",
    "    for numSteps in walkLengths:\n",
    "        distances = simWalks(numSteps, numTrials, dClass)\n",
    "        print(dClass.__name__, 'random walk of', numSteps, 'steps')\n",
    "        print(' Mean =', round( sum(distances)/ len(distances), 4))\n",
    "        print(' Max =', max(distances), ' Min =',min(distances))\n",
    "    print('\\n')"
   ]
  },
  {
   "cell_type": "code",
   "execution_count": 3,
   "metadata": {},
   "outputs": [
    {
     "name": "stdout",
     "output_type": "stream",
     "text": [
      "UsualDrunk random walk of 10 steps\n",
      " Mean = 2.863\n",
      " Max = 7.2  Min = 0.0\n",
      "UsualDrunk random walk of 100 steps\n",
      " Mean = 8.296\n",
      " Max = 21.6  Min = 1.4\n",
      "UsualDrunk random walk of 1000 steps\n",
      " Mean = 27.297\n",
      " Max = 66.3  Min = 4.2\n",
      "UsualDrunk random walk of 10000 steps\n",
      " Mean = 89.241\n",
      " Max = 226.5  Min = 10.0\n",
      "\n",
      "\n"
     ]
    }
   ],
   "source": [
    "random.seed(0)\n",
    "drunkTest((10, 100, 1000, 10000), 100, UsualDrunk)"
   ]
  },
  {
   "cell_type": "code",
   "execution_count": 4,
   "metadata": {},
   "outputs": [
    {
     "name": "stdout",
     "output_type": "stream",
     "text": [
      "UsualDrunk random walk of 0 steps\n",
      " Mean = 0.0\n",
      " Max = 0.0  Min = 0.0\n",
      "UsualDrunk random walk of 1 steps\n",
      " Mean = 1.0\n",
      " Max = 1.0  Min = 1.0\n",
      "UsualDrunk random walk of 2 steps\n",
      " Mean = 1.28\n",
      " Max = 2.0  Min = 0.0\n",
      "\n",
      "\n"
     ]
    }
   ],
   "source": [
    "drunkTest((0, 1, 2), 100, UsualDrunk)"
   ]
  },
  {
   "cell_type": "code",
   "execution_count": 5,
   "metadata": {},
   "outputs": [
    {
     "name": "stdout",
     "output_type": "stream",
     "text": [
      "UsualDrunk random walk of 1 steps\n",
      " Mean = 1.0\n",
      " Max = 1.0  Min = 1.0\n",
      "UsualDrunk random walk of 10 steps\n",
      " Mean = 2.948\n",
      " Max = 7.2  Min = 0.0\n",
      "UsualDrunk random walk of 100 steps\n",
      " Mean = 8.453\n",
      " Max = 21.6  Min = 1.4\n",
      "UsualDrunk random walk of 1000 steps\n",
      " Mean = 27.138\n",
      " Max = 72.8  Min = 1.4\n",
      "UsualDrunk random walk of 10000 steps\n",
      " Mean = 90.661\n",
      " Max = 222.9  Min = 5.1\n",
      "\n",
      "\n",
      "ColdDrunk random walk of 1 steps\n",
      " Mean = 0.996\n",
      " Max = 1.1  Min = 0.9\n",
      "ColdDrunk random walk of 10 steps\n",
      " Mean = 2.788\n",
      " Max = 7.1  Min = 0.2\n",
      "ColdDrunk random walk of 100 steps\n",
      " Mean = 9.602\n",
      " Max = 22.9  Min = 0.4\n",
      "ColdDrunk random walk of 1000 steps\n",
      " Mean = 53.525\n",
      " Max = 108.3  Min = 7.3\n",
      "ColdDrunk random walk of 10000 steps\n",
      " Mean = 495.128\n",
      " Max = 654.6  Min = 323.9\n",
      "\n",
      "\n"
     ]
    }
   ],
   "source": [
    "def simAll(drunkKinds, walkLengths, numTrials):\n",
    "    for dClass in drunkKinds:\n",
    "        drunkTest(walkLengths, numTrials, dClass)\n",
    "        \n",
    "random.seed(0)\n",
    "\n",
    "simAll((UsualDrunk, ColdDrunk), (1, 10, 100, 1000, 10000), 100)\n"
   ]
  },
  {
   "cell_type": "code",
   "execution_count": 6,
   "metadata": {},
   "outputs": [],
   "source": [
    "# Plotting random walks\n",
    "\n",
    "class styleIterator(object):\n",
    "    \n",
    "    def __init__(self, styles):\n",
    "        # styles is an iterable\n",
    "        \n",
    "        \n",
    "        self. index = 0\n",
    "        self.styles = styles\n",
    "        \n",
    "    def nextStyle(self):\n",
    "        #self.styles is treated as a ring\n",
    "        \n",
    "        result = self.styles[self.index]\n",
    "        \n",
    "        if self.index == len(self.styles) - 1:\n",
    "            self.index = 0\n",
    "            \n",
    "        else:\n",
    "            self.index += 1\n",
    "        return result\n",
    "    \n",
    "def simDrunk(numTrials, dClass, walkLengths):\n",
    "    \n",
    "    meanDistances = []\n",
    "    \n",
    "    for numSteps in walkLengths:\n",
    "        \n",
    "        print(\"Starting sim of \", numSteps, 'steps')\n",
    "        trials = simWalks(numSteps, numTrials, dClass)\n",
    "        mean = sum(trials)/len(trials)\n",
    "        \n",
    "        meanDistances.append(mean)\n",
    "        \n",
    "    return meanDistances"
   ]
  },
  {
   "cell_type": "code",
   "execution_count": 9,
   "metadata": {},
   "outputs": [
    {
     "name": "stdout",
     "output_type": "stream",
     "text": [
      "Starting simulation of  UsualDrunk\n",
      "Starting sim of  10 steps\n",
      "Starting sim of  100 steps\n",
      "Starting sim of  1000 steps\n",
      "Starting sim of  10000 steps\n",
      "Starting simulation of  ColdDrunk\n",
      "Starting sim of  10 steps\n",
      "Starting sim of  100 steps\n",
      "Starting sim of  1000 steps\n",
      "Starting sim of  10000 steps\n"
     ]
    },
    {
     "data": {
      "image/png": "[encoded data removed]",
      "text/plain": [
       "<matplotlib.figure.Figure at 0x20928b550f0>"
      ]
     },
     "metadata": {},
     "output_type": "display_data"
    }
   ],
   "source": [
    "import pylab\n",
    "def simAll(drunkKinds, walkLengths, numTrials):\n",
    "    styleChoice = styleIterator(('m-', 'b--', 'g-.'))\n",
    "    for dClass in drunkKinds:\n",
    "        \n",
    "        curStyle = styleChoice.nextStyle()\n",
    "        print('Starting simulation of ', dClass.__name__)\n",
    "        means = simDrunk(numTrials, dClass, walkLengths)\n",
    "        \n",
    "        pylab.plot(walkLengths, means, curStyle, label = dClass.__name__)\n",
    "    pylab.xlabel(\"Num steps\")\n",
    "    pylab.ylabel(\"Dist from (0,0)\")\n",
    "    pylab.legend(loc = 'best')\n",
    "    \n",
    "numSteps = (10, 100, 1000, 10000)\n",
    "\n",
    "simAll((UsualDrunk, ColdDrunk), numSteps, 100)"
   ]
  },
  {
   "cell_type": "code",
   "execution_count": 10,
   "metadata": {},
   "outputs": [
    {
     "data": {
      "image/png": "[encoded data removed]",
      "text/plain": [
       "<matplotlib.figure.Figure at 0x20928bea4a8>"
      ]
     },
     "metadata": {},
     "output_type": "display_data"
    }
   ],
   "source": [
    "def getFinalLocs(numSteps, numTrials, dClass):\n",
    "    \n",
    "    locs = []\n",
    "    d = dClass()\n",
    "    \n",
    "    for t in range(numTrials):\n",
    "        \n",
    "        f = Field()\n",
    "        f.addDrunk(d, Location(0,0))\n",
    "        for s in range(numSteps):\n",
    "            f.moveDrunk(d)\n",
    "            \n",
    "        locs.append(f.getLoc(d))\n",
    "        \n",
    "    return locs\n",
    "\n",
    "def plotLocs(drunkKinds, numSteps, numTrials):\n",
    "    \n",
    "    styleChoice = styleIterator(('k+', 'r^', 'mo'))\n",
    "    for dClass in drunkKinds:\n",
    "        \n",
    "        locs = getFinalLocs(numSteps, numTrials, dClass)\n",
    "        xVals, yVals = [], []\n",
    "        for loc in locs:\n",
    "            xVals.append(loc.getX())\n",
    "            yVals.append(loc.getY())\n",
    "        xVals = pylab.array(xVals)\n",
    "        yVals = pylab.array(yVals)\n",
    "        \n",
    "        meanX = sum(abs(xVals))/len(xVals)\n",
    "        meanY = sum(abs(yVals))/len(yVals)\n",
    "        \n",
    "        curStyle = styleChoice.nextStyle()\n",
    "        pylab.plot(xVals, yVals, curStyle, label = dClass.__name__ + ' mean abs dist = <' + str(meanX) + ', ' + str(meanY) +'>')\n",
    "    pylab.title(\"Location at End of walks (\" + str(numSteps) + ' steps')\n",
    "    pylab.xlim(-1000, 1000)\n",
    "    pylab.ylim(-1000, 1000)\n",
    "    pylab.xlabel('Steps East/West of Origin')\n",
    "    pylab.ylabel('Steps North/South of Origin')\n",
    "    pylab.legend()\n",
    "    \n",
    "random.seed(0)\n",
    "plotLocs((UsualDrunk, ColdDrunk), 10000, 1000)"
   ]
  },
  {
   "cell_type": "code",
   "execution_count": 20,
   "metadata": {},
   "outputs": [
    {
     "data": {
      "image/png": "[encoded data removed]",
      "text/plain": [
       "<matplotlib.figure.Figure at 0x20928d63780>"
      ]
     },
     "metadata": {},
     "output_type": "display_data"
    }
   ],
   "source": [
    "class OddField(Field):\n",
    "    \n",
    "    def __init__(self, numHoles = 1000, xRange = 100, yRange = 100):\n",
    "        \n",
    "        Field.__init__(self)\n",
    "        self.wormholes = {}\n",
    "        for w in range(numHoles):\n",
    "            x = random.randint(-xRange, xRange)\n",
    "            y = random.randint(-yRange, yRange)\n",
    "            newX = random.randint(-xRange, xRange)\n",
    "            newY = random.randint(-yRange, yRange)\n",
    "            newLoc = Location(newX , newY)\n",
    "            self.wormholes[(x, y)] = newLoc\n",
    "    \n",
    "    def moveDrunk(self, drunk):\n",
    "        Field.moveDrunk(self, drunk)\n",
    "        \n",
    "        x = self.drunks[drunk].getX()\n",
    "        y = self.drunks[drunk].getY()\n",
    "        \n",
    "        if (x, y) in self.wormholes:\n",
    "            self.drunks[drunk] = self.wormholes[(x, y)]\n",
    "    \n",
    "    \n",
    "def traceWalk(fieldKinds, numSteps):\n",
    "    \n",
    "    styleChoice = styleIterator(('b+', 'r^', 'ko'))\n",
    "    \n",
    "    for fClass in fieldKinds:\n",
    "        d = UsualDrunk()\n",
    "        f = fClass()\n",
    "        f.addDrunk(d, Location(0, 0))\n",
    "        locs = []\n",
    "        for s in range(numSteps):\n",
    "            f.moveDrunk(d)\n",
    "            locs.append(f.getLoc(d))\n",
    "            \n",
    "        xVals, yVals = [], []\n",
    "        for loc in locs:\n",
    "            xVals.append(loc.getX())\n",
    "            yVals.append(loc.getY())\n",
    "            \n",
    "        curStyle = styleChoice.nextStyle()\n",
    "        pylab.plot(xVals, yVals, curStyle, label = fClass.__name__)\n",
    "        pylab.title('Spots visited on Wlak (' + str(numSteps)+\"steps)\")\n",
    "        \n",
    "        pylab.xlabel('Steps East/West of Origin')\n",
    "        pylab.ylabel('Steps North/South of Origin')\n",
    "        pylab.legend()\n",
    "        \n",
    "\n",
    "random.seed(0)\n",
    "traceWalk((Field, OddField), 500)\n"
   ]
  },
  {
   "cell_type": "code",
   "execution_count": 21,
   "metadata": {},
   "outputs": [],
   "source": [
    "# === Provided class Position\n",
    "class Position(object):\n",
    "    \"\"\"\n",
    "    A Position represents a location in a two-dimensional room.\n",
    "    \"\"\"\n",
    "    def __init__(self, x, y):\n",
    "        \"\"\"\n",
    "        Initializes a position with coordinates (x, y).\n",
    "        \"\"\"\n",
    "        self.x = x\n",
    "        self.y = y\n",
    "        \n",
    "    def getX(self):\n",
    "        return self.x\n",
    "    \n",
    "    def getY(self):\n",
    "        return self.y\n",
    "    \n",
    "    def getNewPosition(self, angle, speed):\n",
    "        \"\"\"\n",
    "        Computes and returns the new Position after a single clock-tick has\n",
    "        passed, with this object as the current position, and with the\n",
    "        specified angle and speed.\n",
    "\n",
    "        Does NOT test whether the returned position fits inside the room.\n",
    "\n",
    "        angle: number representing angle in degrees, 0 <= angle < 360\n",
    "        speed: positive float representing speed\n",
    "\n",
    "        Returns: a Position object representing the new position.\n",
    "        \"\"\"\n",
    "        old_x, old_y = self.getX(), self.getY()\n",
    "        angle = float(angle)\n",
    "        # Compute the change in position\n",
    "        delta_y = speed * math.cos(math.radians(angle))\n",
    "        delta_x = speed * math.sin(math.radians(angle))\n",
    "        # Add that to the existing position\n",
    "        new_x = old_x + delta_x\n",
    "        new_y = old_y + delta_y\n",
    "        return Position(new_x, new_y)\n",
    "\n",
    "    def __str__(self):  \n",
    "        return \"(%0.2f, %0.2f)\" % (self.x, self.y)"
   ]
  },
  {
   "cell_type": "code",
   "execution_count": 25,
   "metadata": {},
   "outputs": [
    {
     "name": "stdout",
     "output_type": "stream",
     "text": [
      "1\n"
     ]
    }
   ],
   "source": [
    "d = {}\n",
    "d[Position(5,6)] = 1\n",
    "print(len(d))"
   ]
  },
  {
   "cell_type": "code",
   "execution_count": null,
   "metadata": {},
   "outputs": [],
   "source": []
  }
 ],
 "metadata": {
  "kernelspec": {
   "display_name": "Python 3",
   "language": "python",
   "name": "python3"
  },
  "language_info": {
   "codemirror_mode": {
    "name": "ipython",
    "version": 3
   },
   "file_extension": ".py",
   "mimetype": "text/x-python",
   "name": "python",
   "nbconvert_exporter": "python",
   "pygments_lexer": "ipython3",
   "version": "3.6.4"
  }
 },
 "nbformat": 4,
 "nbformat_minor": 2
}
