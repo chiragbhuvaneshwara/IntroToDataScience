{
 "cells": [
  {
   "cell_type": "code",
   "execution_count": 1,
   "metadata": {},
   "outputs": [],
   "source": [
    "import random\n"
   ]
  },
  {
   "cell_type": "code",
   "execution_count": 17,
   "metadata": {},
   "outputs": [],
   "source": [
    "def greedySum(L, s):\n",
    "    \"\"\" input: s, positive integer, what the sum should add up to\n",
    "               L, list of unique positive integers sorted in descending order\n",
    "        Use the greedy approach where you find the largest multiplier for \n",
    "        the largest value in L then for the second largest, and so on to \n",
    "        solve the equation s = L[0]*m_0 + L[1]*m_1 + ... + L[n-1]*m_(n-1)\n",
    "        return: the sum of the multipliers or \"no solution\" if greedy approach does \n",
    "                not yield a set of multipliers such that the equation sums to 's'\n",
    "    \"\"\"\n",
    "    \n",
    "    m = []\n",
    "    foundSum = 0\n",
    "    temp = s\n",
    "    \n",
    "    for element in L:\n",
    "        \n",
    "        number = s\n",
    "        \n",
    "        while element * number > s:\n",
    "            number -= 1\n",
    "            \n",
    "        m.append(number)\n",
    "        s -= element * number\n",
    "    \n",
    "    \n",
    "    for i in range(len(L)):\n",
    "        \n",
    "        foundSum += m[i] * L[i]\n",
    "    \n",
    "    \n",
    "    if foundSum == temp:\n",
    "        return sum(m)\n",
    "    \n",
    "    else:\n",
    "        return \"no solution\"\n",
    "        "
   ]
  },
  {
   "cell_type": "code",
   "execution_count": 18,
   "metadata": {},
   "outputs": [
    {
     "data": {
      "text/plain": [
       "1"
      ]
     },
     "execution_count": 18,
     "metadata": {},
     "output_type": "execute_result"
    }
   ],
   "source": [
    "greedySum([50, 25, 5], 5)"
   ]
  },
  {
   "cell_type": "code",
   "execution_count": 19,
   "metadata": {},
   "outputs": [
    {
     "data": {
      "text/plain": [
       "2"
      ]
     },
     "execution_count": 19,
     "metadata": {},
     "output_type": "execute_result"
    }
   ],
   "source": [
    "greedySum([30, 20, 10], 60)"
   ]
  },
  {
   "cell_type": "code",
   "execution_count": 29,
   "metadata": {},
   "outputs": [],
   "source": [
    "def max_contig_sum(L):\n",
    "    \"\"\" L, a list of integers, at least one positive\n",
    "    Returns the maximum sum of a contiguous subsequence in L \"\"\"\n",
    "    \n",
    "    maxSum = 0\n",
    "    \n",
    "    sum_ = 0\n",
    "    for i in range(len(L)):\n",
    "        for j in range(len(L), 0, -1):\n",
    "            \n",
    "            if j>=i:\n",
    "                sum_ = sum(L[i:j])\n",
    "                \n",
    "            \n",
    "            if sum_ > maxSum:\n",
    "                maxSum = sum_\n",
    "                \n",
    "    return maxSum\n",
    "            \n",
    "            "
   ]
  },
  {
   "cell_type": "code",
   "execution_count": 30,
   "metadata": {},
   "outputs": [
    {
     "data": {
      "text/plain": [
       "105"
      ]
     },
     "execution_count": 30,
     "metadata": {},
     "output_type": "execute_result"
    }
   ],
   "source": [
    "max_contig_sum([50,-1, 25,-74, 100, 5])"
   ]
  },
  {
   "cell_type": "code",
   "execution_count": 31,
   "metadata": {},
   "outputs": [
    {
     "name": "stdout",
     "output_type": "stream",
     "text": [
      "[]\n"
     ]
    }
   ],
   "source": [
    "L = [50,-1, 25,-74, 100, 5]\n",
    "print(L[1:1])"
   ]
  },
  {
   "cell_type": "code",
   "execution_count": 73,
   "metadata": {},
   "outputs": [
    {
     "name": "stdout",
     "output_type": "stream",
     "text": [
      "1\n",
      "-1\n",
      "2\n",
      "-2\n",
      "3\n",
      "-3\n",
      "4\n",
      "-4\n",
      "5\n",
      "-5\n",
      "6\n",
      "-6\n",
      "7\n",
      "-7\n",
      "8\n",
      "-8\n",
      "9\n",
      "-9\n",
      "10\n",
      "-10\n",
      "11\n",
      "-11\n",
      "12\n",
      "-12\n",
      "13\n",
      "-13\n",
      "14\n",
      "-14\n",
      "15\n",
      "-15\n",
      "16\n",
      "-16\n",
      "17\n",
      "-17\n",
      "18\n",
      "-18\n",
      "19\n",
      "-19\n",
      "20\n",
      "-20\n",
      "21\n",
      "-21\n",
      "22\n",
      "-22\n",
      "23\n",
      "-23\n",
      "24\n",
      "-24\n",
      "25\n",
      "-25\n",
      "26\n",
      "-26\n",
      "27\n",
      "-27\n",
      "28\n",
      "-28\n",
      "29\n",
      "-29\n",
      "30\n",
      "-30\n",
      "31\n",
      "-31\n",
      "32\n",
      "-32\n",
      "33\n",
      "-33\n",
      "34\n",
      "-34\n",
      "35\n",
      "-35\n",
      "36\n",
      "-36\n",
      "37\n",
      "-37\n",
      "38\n",
      "-38\n",
      "39\n",
      "-39\n",
      "40\n",
      "-40\n",
      "41\n",
      "-41\n",
      "42\n",
      "-42\n",
      "43\n",
      "-43\n",
      "44\n",
      "-44\n",
      "45\n",
      "-45\n",
      "46\n",
      "-46\n",
      "47\n",
      "-47\n",
      "48\n",
      "-48\n",
      "49\n",
      "-49\n",
      "49\n"
     ]
    }
   ],
   "source": [
    "def solveit(test):\n",
    "    \"\"\" test, a function that takes an int parameter and returns a Boolean\n",
    "        Assumes there exists an int, x, such that test(x) is True\n",
    "        Returns an int, x, with the smallest absolute value such that test(x) is True \n",
    "        In case of ties, return any one of them. \n",
    "    \"\"\"\n",
    "    # IMPLEMENT THIS FUNCTION\n",
    "    \n",
    "    x = 0\n",
    "    y = 0\n",
    "    t1 = True\n",
    "    t2 = True\n",
    "    \n",
    "    while t1 == True:\n",
    "        if test(x)!= True:\n",
    "            x+=1\n",
    "        if test(y)!= True:\n",
    "            y-=1\n",
    "        if test(x) == True or  test(y) == True:\n",
    "            t1 = False\n",
    "        \n",
    "        print(x)\n",
    "        print(y)\n",
    "    if abs(x) >= abs(y) and test(x) == True:\n",
    "        \n",
    "        return x\n",
    "    else:\n",
    "        return y\n",
    "    \n",
    "    \n",
    "    \n",
    "    \n",
    "#### This test case prints 49 ####\n",
    "def f(x):\n",
    "    return (x+15)**0.5 + x**0.5 == 15\n",
    "print(solveit(f))\n",
    "# print(f(49))\n"
   ]
  },
  {
   "cell_type": "code",
   "execution_count": 74,
   "metadata": {},
   "outputs": [
    {
     "name": "stdout",
     "output_type": "stream",
     "text": [
      "1\n",
      "-1\n",
      "2\n",
      "-2\n",
      "3\n",
      "-3\n",
      "4\n",
      "-4\n",
      "-4\n"
     ]
    }
   ],
   "source": [
    "#### This test case prints 0 ####\n",
    "def f(x):\n",
    "    return x == -4\n",
    "print(solveit(f))\n"
   ]
  },
  {
   "cell_type": "code",
   "execution_count": 66,
   "metadata": {},
   "outputs": [
    {
     "name": "stdout",
     "output_type": "stream",
     "text": [
      "1\n"
     ]
    }
   ],
   "source": [
    "print(1)"
   ]
  },
  {
   "cell_type": "code",
   "execution_count": null,
   "metadata": {},
   "outputs": [],
   "source": []
  }
 ],
 "metadata": {
  "kernelspec": {
   "display_name": "Python 3",
   "language": "python",
   "name": "python3"
  },
  "language_info": {
   "codemirror_mode": {
    "name": "ipython",
    "version": 3
   },
   "file_extension": ".py",
   "mimetype": "text/x-python",
   "name": "python",
   "nbconvert_exporter": "python",
   "pygments_lexer": "ipython3",
   "version": "3.6.4"
  }
 },
 "nbformat": 4,
 "nbformat_minor": 2
}
