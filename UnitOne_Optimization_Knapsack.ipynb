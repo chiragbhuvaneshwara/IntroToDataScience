{
 "cells": [
  {
   "cell_type": "code",
   "execution_count": null,
   "metadata": {},
   "outputs": [],
   "source": [
    "f1 = lambda x: x/2\n",
    "f1(3)"
   ]
  },
  {
   "cell_type": "code",
   "execution_count": null,
   "metadata": {},
   "outputs": [],
   "source": [
    "f2 = lambda x, y: x+y\n",
    "# f2(2,3)\n",
    "f2(\"as\",\"asd\")"
   ]
  },
  {
   "cell_type": "code",
   "execution_count": null,
   "metadata": {},
   "outputs": [],
   "source": [
    "f3 = lambda x, y: 'factor' if (x%y == 0) else 'not factor'\n",
    "\n",
    "f3(4, 2)\n",
    "# f3(4, 3)"
   ]
  },
  {
   "cell_type": "code",
   "execution_count": null,
   "metadata": {},
   "outputs": [],
   "source": []
  },
  {
   "cell_type": "markdown",
   "metadata": {},
   "source": [
    "# Unit 1\n",
    "# Video: Greedy Algorithms"
   ]
  },
  {
   "cell_type": "code",
   "execution_count": 1,
   "metadata": {},
   "outputs": [],
   "source": [
    "#Unit 1\n",
    "#Video: Greedy Algorithms\n",
    "\n",
    "\n",
    "class Food(object):\n",
    "    def __init__(self, n, v, w):\n",
    "        self.name = n\n",
    "        self.value = v\n",
    "        self.calories = w\n",
    "    \n",
    "    def getValue(self):\n",
    "        return self.value\n",
    "    \n",
    "    def getCost(self):\n",
    "        return self.calories\n",
    "    \n",
    "    def density(self):\n",
    "        return self.getValue()/self.getCost()\n",
    "    \n",
    "    def __str__(self):\n",
    "        return self.name + ': <' + str(self.value) + ', ' + str(self.calories) + '>'\n",
    "    "
   ]
  },
  {
   "cell_type": "code",
   "execution_count": 2,
   "metadata": {},
   "outputs": [],
   "source": [
    "def buildMenu(names, values, calories):\n",
    "    \"\"\"\n",
    "    names, values, calories: lists of same lengths\n",
    "    names: list(str)\n",
    "    values, calories: list(numbers)\n",
    "    \n",
    "    return list of foods\n",
    "    \"\"\"\n",
    "    \n",
    "    menu = []\n",
    "    \n",
    "    for i in range(len(values)):\n",
    "        menu.append(Food(names[i],values[i],calories[i]))\n",
    "        \n",
    "    \n",
    "    return menu\n",
    "    "
   ]
  },
  {
   "cell_type": "code",
   "execution_count": 3,
   "metadata": {},
   "outputs": [],
   "source": [
    "# \"Flexible\" Greedy Algorithm\n",
    "# while knapsack not full --> put \"best\" available item in knapsack\n",
    "# \"Flexible\" --> \"keyFunction\" can be changed\n",
    "\n",
    "def greedy(items, maxCost, keyFunction): # O(n) + O(nlog(n)) = O(nlog(n))\n",
    "    \"\"\"\n",
    "    items: list of Food objects\n",
    "    maxCost >= 0\n",
    "    keyFunction : (maps) elements of items ==> numbers\n",
    "    \"\"\"\n",
    "    \n",
    "    itemsCopy = sorted(items, key = keyFunction, reverse = True) # O(nlog(n)) for sorting\n",
    "    \n",
    "    result = []\n",
    "    totalValue, totalCost = 0.0, 0.0\n",
    "    \n",
    "    for i in range(len(itemsCopy)): # O(n)\n",
    "        \n",
    "        if (totalCost + itemsCopy[i].getCost()) <= maxCost:\n",
    "            \n",
    "            result.append(itemsCopy[i])\n",
    "            totalCost += itemsCopy[i].getCost()\n",
    "            totalValue += itemsCopy[i].getValue()\n",
    "    \n",
    "    \n",
    "    return (result, totalValue)"
   ]
  },
  {
   "cell_type": "code",
   "execution_count": 4,
   "metadata": {},
   "outputs": [],
   "source": [
    "def testGreedy(items, constraint, keyFunction):\n",
    "    taken, val = greedy(items, constraint, keyFunction)\n",
    "    print(\"Total val of items taken = \", val)\n",
    "    for item in taken:\n",
    "        print(\" \", item)"
   ]
  },
  {
   "cell_type": "code",
   "execution_count": 5,
   "metadata": {},
   "outputs": [],
   "source": [
    "def testGreedys(maxUnits):\n",
    "    \n",
    "    print('Use greedy by Value to allocate', maxUnits,' calories')\n",
    "    \n",
    "    testGreedy(foods, maxUnits, Food.getValue)\n",
    "    \n",
    "    print(\"\\nUse greedy by cost to allocate\", maxUnits, \" calories\")\n",
    "    testGreedy(foods, maxUnits, lambda x: 1/Food.getCost(x))\n",
    "    \n",
    "    print(\"\\nUse greedy by density to allocate\", maxUnits, \" calories\")\n",
    "    testGreedy(foods, maxUnits, Food.density)\n",
    "    "
   ]
  },
  {
   "cell_type": "code",
   "execution_count": 6,
   "metadata": {},
   "outputs": [],
   "source": [
    "names = ['wine', 'beer', 'pizza', 'burger','fries', 'cola','apple','donut']\n",
    "values = [89, 90, 95, 100, 90, 79, 50, 10]\n",
    "calories = [123, 154, 258, 354, 365, 150, 95, 195]\n",
    "foods = buildMenu(names, values, calories)\n"
   ]
  },
  {
   "cell_type": "code",
   "execution_count": 7,
   "metadata": {},
   "outputs": [
    {
     "name": "stdout",
     "output_type": "stream",
     "text": [
      "Use greedy by Value to allocate 750  calories\n",
      "Total val of items taken =  284.0\n",
      "  burger: <100, 354>\n",
      "  pizza: <95, 258>\n",
      "  wine: <89, 123>\n",
      "\n",
      "Use greedy by cost to allocate 750  calories\n",
      "Total val of items taken =  318.0\n",
      "  apple: <50, 95>\n",
      "  wine: <89, 123>\n",
      "  cola: <79, 150>\n",
      "  beer: <90, 154>\n",
      "  donut: <10, 195>\n",
      "\n",
      "Use greedy by density to allocate 750  calories\n",
      "Total val of items taken =  318.0\n",
      "  wine: <89, 123>\n",
      "  beer: <90, 154>\n",
      "  cola: <79, 150>\n",
      "  apple: <50, 95>\n",
      "  donut: <10, 195>\n"
     ]
    }
   ],
   "source": [
    "testGreedys(750)\n",
    "#Greedy by density better"
   ]
  },
  {
   "cell_type": "code",
   "execution_count": 8,
   "metadata": {},
   "outputs": [
    {
     "name": "stdout",
     "output_type": "stream",
     "text": [
      "Use greedy by Value to allocate 1000  calories\n",
      "Total val of items taken =  424.0\n",
      "  burger: <100, 354>\n",
      "  pizza: <95, 258>\n",
      "  beer: <90, 154>\n",
      "  wine: <89, 123>\n",
      "  apple: <50, 95>\n",
      "\n",
      "Use greedy by cost to allocate 1000  calories\n",
      "Total val of items taken =  413.0\n",
      "  apple: <50, 95>\n",
      "  wine: <89, 123>\n",
      "  cola: <79, 150>\n",
      "  beer: <90, 154>\n",
      "  donut: <10, 195>\n",
      "  pizza: <95, 258>\n",
      "\n",
      "Use greedy by density to allocate 1000  calories\n",
      "Total val of items taken =  413.0\n",
      "  wine: <89, 123>\n",
      "  beer: <90, 154>\n",
      "  cola: <79, 150>\n",
      "  apple: <50, 95>\n",
      "  pizza: <95, 258>\n",
      "  donut: <10, 195>\n"
     ]
    }
   ],
   "source": [
    "testGreedys(1000)\n",
    "#greedy by values better"
   ]
  },
  {
   "cell_type": "code",
   "execution_count": null,
   "metadata": {},
   "outputs": [],
   "source": []
  },
  {
   "cell_type": "code",
   "execution_count": null,
   "metadata": {},
   "outputs": [],
   "source": []
  },
  {
   "cell_type": "markdown",
   "metadata": {},
   "source": [
    "# Unit 1.2 Decision trees"
   ]
  },
  {
   "cell_type": "code",
   "execution_count": 9,
   "metadata": {},
   "outputs": [],
   "source": [
    "#Unit 1.2 Decision trees\n",
    "\n",
    "def maxVal(toConsider, avail):\n",
    "    \"\"\"\n",
    "    toConsider: list of items\n",
    "    avai: available weight\n",
    "    \n",
    "    returns: tuple, (total val of solution to 0/1 knapsack problem, items of that solution)\n",
    "    \"\"\"\n",
    "    result = ()\n",
    "    \n",
    "    if toConsider == [] or avail == 0:\n",
    "        result = (0,())\n",
    "    \n",
    "    elif toConsider[0].getCost() > avail:\n",
    "        result = maxVal(toConsider[1:], avail)\n",
    "    \n",
    "    else:\n",
    "        nextItem = toConsider[0]\n",
    "        withVal, withToTake = maxVal(toConsider[1:], avail - nextItem.getCost())\n",
    "        withVal += nextItem.getValue()\n",
    "        withoutVal, withoutToTake = maxVal(toConsider[1:], avail)\n",
    "    \n",
    "    \n",
    "        if withVal > withoutVal:\n",
    "\n",
    "            result = (withVal, withToTake + (nextItem,))\n",
    "\n",
    "        else:\n",
    "\n",
    "            result = (withoutVal, withoutToTake)\n",
    "        \n",
    "    return result\n",
    "\n",
    "# Not actually building the search tree\n",
    "# Local variable result records the best answer"
   ]
  },
  {
   "cell_type": "code",
   "execution_count": 10,
   "metadata": {},
   "outputs": [],
   "source": [
    "def testMaxVal(foods, maxUnits, printItems = True):\n",
    "    print('Use search tree to allocate', maxUnits, 'calories')\n",
    "    val, taken = maxVal(foods, maxUnits)\n",
    "    print('Total value of items taken = ', val)\n",
    "    \n",
    "    if printItems:\n",
    "        for item in taken:\n",
    "            print(\"  \", item)\n",
    "        \n"
   ]
  },
  {
   "cell_type": "code",
   "execution_count": 11,
   "metadata": {},
   "outputs": [
    {
     "name": "stdout",
     "output_type": "stream",
     "text": [
      "Use greedy by Value to allocate 750  calories\n",
      "Total val of items taken =  284.0\n",
      "  burger: <100, 354>\n",
      "  pizza: <95, 258>\n",
      "  wine: <89, 123>\n",
      "\n",
      "Use greedy by cost to allocate 750  calories\n",
      "Total val of items taken =  318.0\n",
      "  apple: <50, 95>\n",
      "  wine: <89, 123>\n",
      "  cola: <79, 150>\n",
      "  beer: <90, 154>\n",
      "  donut: <10, 195>\n",
      "\n",
      "Use greedy by density to allocate 750  calories\n",
      "Total val of items taken =  318.0\n",
      "  wine: <89, 123>\n",
      "  beer: <90, 154>\n",
      "  cola: <79, 150>\n",
      "  apple: <50, 95>\n",
      "  donut: <10, 195>\n",
      "\n",
      "\n",
      "\n",
      "Use search tree to allocate 750 calories\n",
      "Total value of items taken =  353\n",
      "   cola: <79, 150>\n",
      "   pizza: <95, 258>\n",
      "   beer: <90, 154>\n",
      "   wine: <89, 123>\n"
     ]
    }
   ],
   "source": [
    "names = ['wine', 'beer', 'pizza', 'burger','fries', 'cola','apple','donut']\n",
    "values = [89, 90, 95, 100, 90, 79, 50, 10]\n",
    "calories = [123, 154, 258, 354, 365, 150, 95, 195]\n",
    "foods = buildMenu(names, values, calories)\n",
    "testGreedys(750) #Solution is approximate and good enough ie local optima\n",
    "print('\\n\\n')\n",
    "testMaxVal(foods, 750) #Solution is best ie global optimum\n",
    "# But best solution has"
   ]
  },
  {
   "cell_type": "markdown",
   "metadata": {},
   "source": [
    "# With Memoization aka Dynamic Programming"
   ]
  },
  {
   "cell_type": "code",
   "execution_count": 14,
   "metadata": {},
   "outputs": [
    {
     "name": "stdout",
     "output_type": "stream",
     "text": [
      "Menu contains:  5\n",
      "Use search tree to allocate 750 calories\n",
      "Total value of items taken =  199 \n",
      "\n",
      "Menu contains:  10\n",
      "Use search tree to allocate 750 calories\n",
      "Total value of items taken =  364 \n",
      "\n",
      "Menu contains:  15\n",
      "Use search tree to allocate 750 calories\n",
      "Total value of items taken =  484 \n",
      "\n",
      "Menu contains:  20\n",
      "Use search tree to allocate 750 calories\n",
      "Total value of items taken =  668 \n",
      "\n",
      "Menu contains:  25\n",
      "Use search tree to allocate 750 calories\n",
      "Total value of items taken =  668 \n",
      "\n",
      "Menu contains:  30\n",
      "Use search tree to allocate 750 calories\n",
      "Total value of items taken =  765 \n",
      "\n",
      "Menu contains:  35\n",
      "Use search tree to allocate 750 calories\n",
      "Total value of items taken =  915 \n",
      "\n",
      "Menu contains:  40\n",
      "Use search tree to allocate 750 calories\n",
      "Total value of items taken =  970 \n",
      "\n",
      "Menu contains:  2048\n",
      "Use search tree to allocate 750 calories\n",
      "Total value of items taken =  5327 \n",
      "\n"
     ]
    }
   ],
   "source": [
    "def fastMaxVal(toConsider, avail, memo={}):\n",
    "    \n",
    "    \"\"\"\n",
    "    memo: dict, key = (items left to be considered, available weight)\n",
    "    \n",
    "    items left to be considered: len(toConsider), it works because elements are removed only from front of toConsider\n",
    "    \n",
    "    \n",
    "    1st to do in function: check if optimal choice of items given available wieght is already in memo\n",
    "    last to do in function: update memo \n",
    "    \"\"\"\n",
    "    \n",
    "    \n",
    "    \n",
    "    if (len(toConsider), avail) in memo:\n",
    "        result = memo[(len(toConsider), avail)]\n",
    "    \n",
    "    elif toConsider == [] or avail == 0:\n",
    "        result = (0,())\n",
    "    \n",
    "    elif toConsider[0].getCost() > avail:\n",
    "        # Explore right branch only\n",
    "        result = fastMaxVal(toConsider[1:], avail, memo)\n",
    "    \n",
    "    else:\n",
    "        \n",
    "        nextItem = toConsider[0]\n",
    "        # Explore left branch\n",
    "        withVal, withToTake = fastMaxVal(toConsider[1:], avail - nextItem.getCost(), memo)\n",
    "        withVal += nextItem.getValue()\n",
    "        \n",
    "        #Explore right branch\n",
    "        withoutVal, withoutToTake = fastMaxVal(toConsider[1:], avail, memo)\n",
    "    \n",
    "        #Choose better branch\n",
    "        if withVal > withoutVal:\n",
    "\n",
    "            result = (withVal, withToTake + (nextItem,))\n",
    "\n",
    "        else:\n",
    "\n",
    "            result = (withoutVal, withoutToTake)\n",
    "    \n",
    "    memo[(len(toConsider), avail)] = result\n",
    "    \n",
    "    return result\n",
    "\n",
    "def testFastMaxVal(foods, maxUnits, printItems = True):\n",
    "    print(\"Menu contains: \", len(foods) )\n",
    "    print('Use search tree to allocate', maxUnits, 'calories')\n",
    "    val, taken = fastMaxVal(foods, maxUnits)\n",
    "    print('Total value of items taken = ', val,\"\\n\")\n",
    "    \n",
    "    if printItems:\n",
    "        for item in taken:\n",
    "            print(\"  \", item)\n",
    "\n",
    "            \n",
    "import random\n",
    "def buildLargeMenu(numItems, maxVal, maxCost):\n",
    "    items =[]\n",
    "    for i in range(numItems):\n",
    "        items.append(Food(str(i),random.randint(1,maxVal),random.randint(1, maxCost)))\n",
    "        \n",
    "    return items\n",
    "\n",
    "for numItems in (5, 10, 15, 20, 25, 30, 35, 40, 2048):\n",
    "    items = buildLargeMenu(numItems, 90, 250)\n",
    "#     testMaxVal(items, 750, False)\n",
    "    testFastMaxVal(items, 750, False)"
   ]
  },
  {
   "cell_type": "code",
   "execution_count": 20,
   "metadata": {},
   "outputs": [
    {
     "name": "stdout",
     "output_type": "stream",
     "text": [
      "3000\n"
     ]
    }
   ],
   "source": [
    "import sys\n",
    "print(sys.getrecursionlimit())\n",
    "\n",
    "# sys.setrecursionlimit = 2000 # To change recursion limit"
   ]
  },
  {
   "cell_type": "markdown",
   "metadata": {},
   "source": [
    "# Power set"
   ]
  },
  {
   "cell_type": "code",
   "execution_count": 34,
   "metadata": {},
   "outputs": [
    {
     "name": "stdout",
     "output_type": "stream",
     "text": [
      "[]\n",
      "[1]\n",
      "[2]\n",
      "[1, 2]\n",
      "[3]\n",
      "[1, 3]\n",
      "[2, 3]\n",
      "[1, 2, 3]\n"
     ]
    }
   ],
   "source": [
    "# generate all combinations of N items\n",
    "def powerSet(items):\n",
    "    N = len(items)\n",
    "    # enumerate the 2**N possible combinations\n",
    "    for i in range(2**N):\n",
    "        combo = []\n",
    "        for j in range(N):\n",
    "            # test bit jth of integer i\n",
    "            if (i >> j) % 2 == 1: # same as (i// 2**j) % 2\n",
    "                combo.append(items[j])\n",
    "        yield combo\n",
    "        \n",
    "L = [1, 2, 3]\n",
    "for item in powerSet(L):\n",
    "    print(item)"
   ]
  },
  {
   "cell_type": "code",
   "execution_count": 33,
   "metadata": {},
   "outputs": [
    {
     "name": "stdout",
     "output_type": "stream",
     "text": [
      "()\n",
      "(1,)\n",
      "(2,)\n",
      "(3,)\n",
      "(1, 2)\n",
      "(1, 3)\n",
      "(2, 3)\n",
      "(1, 2, 3)\n"
     ]
    }
   ],
   "source": [
    "from itertools import chain, combinations\n",
    "\n",
    "def powerSet(iterable):\n",
    "    \"powerset([1,2,3]) --> () (1,) (2,) (3,) (1,2) (1,3) (2,3) (1,2,3)\"\n",
    "    results = []\n",
    "    \n",
    "    s = list(iterable)\n",
    "    results = chain.from_iterable(combinations(s, r) for r in range(len(s)+1))\n",
    "\n",
    "    for result in results:\n",
    "        yield result\n",
    "        \n",
    "L = [1, 2, 3]\n",
    "for item in powerSet(L):\n",
    "    print(item)"
   ]
  },
  {
   "cell_type": "code",
   "execution_count": null,
   "metadata": {},
   "outputs": [],
   "source": [
    "class Item(object):\n",
    "    def __init__(self, n, v, w):\n",
    "        self.name = n\n",
    "        self.value = float(v)\n",
    "        self.weight = float(w)\n",
    "    def getName(self):\n",
    "        return self.name\n",
    "    def getValue(self):\n",
    "        return self.value\n",
    "    def getWeight(self):\n",
    "        return self.weight\n",
    "    def __str__(self):\n",
    "        return '<' + self.name + ', ' + str(self.value) + ', '\\\n",
    "                     + str(self.weight) + '>'\n",
    "          \n",
    "def buildItems():\n",
    "    return [Item(n,v,w) for n,v,w in (('clock', 175, 10),\n",
    "                                      ('painting', 90, 9),\n",
    "                                      ('radio', 20, 4),\n",
    "                                      ('vase', 50, 2),\n",
    "                                      ('book', 10, 1),\n",
    "                                      ('computer', 200, 20))]\n",
    "          \n",
    "def buildRandomItems(n):\n",
    "    return [Item(str(i),10*random.randint(1,10),random.randint(1,10))\n",
    "            for i in range(n)]"
   ]
  },
  {
   "cell_type": "code",
   "execution_count": null,
   "metadata": {},
   "outputs": [],
   "source": [
    "def yieldAllCombos(items):\n",
    "    \"\"\"\n",
    "      Generates all combinations of N items into two bags, whereby each \n",
    "      item is in one or zero bags.\n",
    "\n",
    "      Yields a tuple, (bag1, bag2), where each bag is represented as \n",
    "      a list of which item(s) are in each bag.\n",
    "    \"\"\"\n",
    "    \n",
    "    \n",
    "    N = len(items)\n",
    "    \n",
    "    for i in range(3**N):\n",
    "        \n",
    "        bag1, bag2 = [] , []\n",
    "        \n",
    "        for j in range(N):\n",
    "            \n",
    "            if (i//3**j) % 3 == 1:\n",
    "                bag1.append(items[j])\n",
    "            \n",
    "            elif (i//3**j) % 3 == 2:\n",
    "                bag2.append(items[j])\n",
    "                \n",
    "        yield (bag1, bag2)"
   ]
  },
  {
   "cell_type": "markdown",
   "metadata": {},
   "source": [
    "# Recursive Fibonacci: normal v memoization"
   ]
  },
  {
   "cell_type": "code",
   "execution_count": null,
   "metadata": {},
   "outputs": [],
   "source": [
    "#Recursive fibonacci\n",
    "\n",
    "def fib(n):\n",
    "    \n",
    "    if n == 0 or n == 1:\n",
    "        return 1\n",
    "    \n",
    "    else:\n",
    "        return fib(n-1) + fib(n-2)\n",
    "    \n",
    "fib(35)"
   ]
  },
  {
   "cell_type": "code",
   "execution_count": null,
   "metadata": {},
   "outputs": [],
   "source": [
    "def fastFib(n, memo = {}):\n",
    "    \n",
    "    if n == 0 or n == 1:\n",
    "        return 1\n",
    "    \n",
    "    try:\n",
    "        return memo[n]\n",
    "    \n",
    "    except KeyError:\n",
    "        result = fastFib(n-1, memo) + fastFib(n-2, memo)\n",
    "        \n",
    "        memo[n] = result\n",
    "        return result\n",
    "\n",
    "fastFib(120)"
   ]
  },
  {
   "cell_type": "markdown",
   "metadata": {},
   "source": [
    "# Video: Graph Class"
   ]
  },
  {
   "cell_type": "code",
   "execution_count": 2,
   "metadata": {},
   "outputs": [],
   "source": [
    "class Node(object):\n",
    "    \n",
    "    def __init__(self, name):\n",
    "        \"\"\"\n",
    "        Assumes name is a string\n",
    "        \"\"\"\n",
    "        \n",
    "        self.name = name\n",
    "    \n",
    "    def getName(self):\n",
    "        return self.name\n",
    "    \n",
    "    def __str__(self):\n",
    "        return self.name\n",
    "\n",
    "################################\n",
    "    \n",
    "class Edge(object):\n",
    "    \n",
    "    def __init__(self, src, dest):\n",
    "        \"\"\"\n",
    "        src, dest : nodes\n",
    "        \"\"\"\n",
    "        self.src = src\n",
    "        self.dest = dest\n",
    "    \n",
    "    def getSource(self):\n",
    "        return self.src\n",
    "    \n",
    "    def getDestination(self):\n",
    "        return self.dest\n",
    "    \n",
    "    def __str__(self):\n",
    "        return self.src.getName() + '->' + self.dest.getName()\n",
    "#####################################\n",
    "\n",
    "class Digraph(object):\n",
    "    \"\"\"\n",
    "    edges: dict, node --> list(children nodes)\n",
    "    \"\"\"\n",
    "    \n",
    "    def __init__(self):\n",
    "        self.edges = {}\n",
    "        \n",
    "    def addNode(self, node):\n",
    "        if node in self.edges:\n",
    "            raise ValueError('Duplicate node')\n",
    "        else:\n",
    "            self.edges[node] = []\n",
    "    \n",
    "    def addEdge(self, edge):\n",
    "        src = edge.getSource()\n",
    "        dest = edge.getDestination()\n",
    "        \n",
    "        if not (src in self.edges and dest in self.edges):\n",
    "            raise ValueError('Node not in graph')\n",
    "        self.edges[src].append(dest)\n",
    "    \n",
    "    def childrenOf(self, node):\n",
    "        return self.edges[node]\n",
    "    \n",
    "    def hasNode(self, node):\n",
    "        return node in self.edges\n",
    "    \n",
    "    def getNode(self, name):\n",
    "        \n",
    "        for n in self.edges:\n",
    "            if n.getName() == name:\n",
    "                return n\n",
    "        raise NameError(name)\n",
    "        \n",
    "    def __str__(self):\n",
    "        \n",
    "        result = ''\n",
    "        \n",
    "        for src in self.edges:\n",
    "            for dest in self.edges[src]:\n",
    "                \n",
    "                result = result + src.getName() + '->' + dest.getName() + '\\n'\n",
    "        \n",
    "        return result[:-1] # omit final newline\n",
    "######################################\n",
    "class Graph(Digraph):\n",
    "    \n",
    "    def addEdge(self, edge):\n",
    "        Digraph.addEdge(self, edge)\n",
    "        rev = Edge(edge.getDestination(), edge.getSource())\n",
    "        Digraph.addEdge(self, rev)\n",
    "        \n",
    "#######################################\n",
    "\n",
    "def buildCityGraph(graphType):\n",
    "    g = graphType()\n",
    "    \n",
    "    L = ('Boston', 'Providence', 'New York', 'Chicago', 'Denver', 'Phoenix', 'Los Angeles') # 7 nodes\n",
    "    for name in L:\n",
    "        g.addNode(Node(name))\n",
    "        \n",
    "    g.addEdge(Edge(g.getNode('Boston'), g.getNode('Providence')))\n",
    "    g.addEdge(Edge(g.getNode('Boston'), g.getNode('New York')))\n",
    "    g.addEdge(Edge(g.getNode('Providence'), g.getNode('Boston')))\n",
    "    g.addEdge(Edge(g.getNode('Providence'), g.getNode('New York')))\n",
    "    g.addEdge(Edge(g.getNode('New York'), g.getNode('Chicago')))\n",
    "    g.addEdge(Edge(g.getNode('Chicago'), g.getNode('Denver')))\n",
    "    g.addEdge(Edge(g.getNode('Denver'), g.getNode('Phoenix')))\n",
    "    g.addEdge(Edge(g.getNode('Denver'), g.getNode('New York')))\n",
    "    g.addEdge(Edge(g.getNode('Chicago'), g.getNode('Phoenix')))\n",
    "    g.addEdge(Edge(g.getNode('Los Angeles'), g.getNode('Boston')))\n",
    "    \n",
    "    return g\n",
    "    "
   ]
  },
  {
   "cell_type": "code",
   "execution_count": 3,
   "metadata": {},
   "outputs": [
    {
     "name": "stdout",
     "output_type": "stream",
     "text": [
      "Boston->Providence\n",
      "Boston->New York\n",
      "Providence->Boston\n",
      "Providence->New York\n",
      "New York->Chicago\n",
      "Chicago->Denver\n",
      "Chicago->Phoenix\n",
      "Denver->Phoenix\n",
      "Denver->New York\n",
      "Los Angeles->Boston\n"
     ]
    }
   ],
   "source": [
    "print(buildCityGraph(Digraph))\n"
   ]
  },
  {
   "cell_type": "code",
   "execution_count": 4,
   "metadata": {},
   "outputs": [
    {
     "name": "stdout",
     "output_type": "stream",
     "text": [
      "Boston->Providence\n",
      "Boston->New York\n",
      "Boston->Providence\n",
      "Boston->Los Angeles\n",
      "Providence->Boston\n",
      "Providence->Boston\n",
      "Providence->New York\n",
      "New York->Boston\n",
      "New York->Providence\n",
      "New York->Chicago\n",
      "New York->Denver\n",
      "Chicago->New York\n",
      "Chicago->Denver\n",
      "Chicago->Phoenix\n",
      "Denver->Chicago\n",
      "Denver->Phoenix\n",
      "Denver->New York\n",
      "Phoenix->Denver\n",
      "Phoenix->Chicago\n",
      "Los Angeles->Boston\n"
     ]
    }
   ],
   "source": [
    "print(buildCityGraph(Graph))"
   ]
  },
  {
   "cell_type": "code",
   "execution_count": 5,
   "metadata": {},
   "outputs": [
    {
     "name": "stdout",
     "output_type": "stream",
     "text": [
      "ABC->ACB\n",
      "ABC->BAC\n",
      "ACB->ABC\n",
      "ACB->CAB\n",
      "BAC->ABC\n",
      "BAC->BCA\n",
      "BCA->BAC\n",
      "BCA->CBA\n",
      "CAB->ACB\n",
      "CAB->CBA\n",
      "CBA->BCA\n",
      "CBA->CAB\n"
     ]
    }
   ],
   "source": [
    "nodes = []\n",
    "nodes.append(Node(\"ABC\")) # nodes[0]\n",
    "nodes.append(Node(\"ACB\")) # nodes[1]\n",
    "nodes.append(Node(\"BAC\")) # nodes[2]\n",
    "nodes.append(Node(\"BCA\")) # nodes[3]\n",
    "nodes.append(Node(\"CAB\")) # nodes[4]\n",
    "nodes.append(Node(\"CBA\")) # nodes[5]\n",
    "\n",
    "g = Graph()\n",
    "for n in nodes:\n",
    "    g.addNode(n)\n",
    "    \n",
    "g.addEdge(Edge(nodes[0], nodes[1]))\n",
    "g.addEdge(Edge(nodes[0], nodes[2]))\n",
    "g.addEdge(Edge(nodes[1], nodes[4]))\n",
    "g.addEdge(Edge(nodes[2], nodes[3]))\n",
    "g.addEdge(Edge(nodes[3], nodes[5]))\n",
    "g.addEdge(Edge(nodes[4], nodes[5]))\n",
    "\n",
    "\n",
    "    \n",
    "print(g)"
   ]
  },
  {
   "cell_type": "markdown",
   "metadata": {},
   "source": [
    "# Depth first search"
   ]
  },
  {
   "cell_type": "code",
   "execution_count": 14,
   "metadata": {},
   "outputs": [],
   "source": [
    "def printPath(path):\n",
    "    \"\"\"\n",
    "    path =[nodes]\n",
    "    \"\"\"\n",
    "    result = ''\n",
    "    \n",
    "    for i in range(len(path)):\n",
    "        result = result + str(path[i])\n",
    "        \n",
    "        if i != len(path) - 1:\n",
    "            result = result + '->'\n",
    "    return result\n",
    "\n",
    "def DFS(graph, start, end, path, shortest, toPrint = False):\n",
    "    \n",
    "    \"\"\"\n",
    "    graph: instance of Graph\n",
    "    start, end: instance of Node\n",
    "    path: list of nodes in the path\n",
    "    shortest: path that is shortest among the nodes considered\n",
    "    \"\"\"\n",
    "    \n",
    "    path = path + [start]\n",
    "    \n",
    "    if toPrint:\n",
    "        print(\"Current DFS path: \", printPath(path))\n",
    "    \n",
    "    if start == end:\n",
    "        return path\n",
    "    \n",
    "    for node in graph.childrenOf(start):\n",
    "        \n",
    "        if node not in path: #avoid cycles ie if node was in path, we'd be visiting it again and be stuck in a loop\n",
    "            if shortest == None or len(path) < len(shortest):\n",
    "                newPath = DFS(graph, node, end, path, shortest, toPrint)\n",
    "                \n",
    "                if newPath != None:\n",
    "                    shortest = newPath\n",
    "        elif toPrint:\n",
    "            print(\"Already visited \", node)\n",
    "    return shortest\n",
    "\n",
    "def shortestPath(graph, start, end, toPrint = False):\n",
    "    return DFS(graph, start, end, [], None, toPrint)\n",
    "\n",
    "# shortestPath() is a wrapper function that calls DFS which requires path and shortest which are only needed to keep a track of the path. So func shortestPath provides an apt level of abstraction"
   ]
  },
  {
   "cell_type": "code",
   "execution_count": 17,
   "metadata": {},
   "outputs": [
    {
     "name": "stdout",
     "output_type": "stream",
     "text": [
      "Current DFS path:  Chicago\n",
      "Current DFS path:  Chicago->Denver\n",
      "Current DFS path:  Chicago->Denver->Phoenix\n",
      "Current DFS path:  Chicago->Denver->New York\n",
      "Already visited  Chicago\n",
      "Current DFS path:  Chicago->Phoenix\n",
      "No path from  Chicago  to  Los Angeles\n"
     ]
    }
   ],
   "source": [
    "def testSP(source, destination):\n",
    "    \n",
    "    g = buildCityGraph(Digraph)\n",
    "    sp = shortestPath(g, g.getNode(source), g.getNode(destination), toPrint = True)\n",
    "    \n",
    "    if sp != None:\n",
    "        print(\"Shortest path from \", source, \" to \",destination ,' is ', printPath(sp))\n",
    "        \n",
    "    else:\n",
    "        print(\"No path from \", source, \" to \",destination )\n",
    "testSP('Chicago','Los Angeles')"
   ]
  },
  {
   "cell_type": "code",
   "execution_count": 18,
   "metadata": {},
   "outputs": [
    {
     "name": "stdout",
     "output_type": "stream",
     "text": [
      "Current DFS path:  Boston\n",
      "Current DFS path:  Boston->Providence\n",
      "Already visited  Boston\n",
      "Current DFS path:  Boston->Providence->New York\n",
      "Current DFS path:  Boston->Providence->New York->Chicago\n",
      "Current DFS path:  Boston->Providence->New York->Chicago->Denver\n",
      "Current DFS path:  Boston->Providence->New York->Chicago->Denver->Phoenix\n",
      "Already visited  New York\n",
      "Current DFS path:  Boston->Providence->New York->Chicago->Phoenix\n",
      "Current DFS path:  Boston->New York\n",
      "Current DFS path:  Boston->New York->Chicago\n",
      "Current DFS path:  Boston->New York->Chicago->Denver\n",
      "Current DFS path:  Boston->New York->Chicago->Denver->Phoenix\n",
      "Already visited  New York\n",
      "Current DFS path:  Boston->New York->Chicago->Phoenix\n",
      "Shortest path from  Boston  to  Phoenix  is  Boston->New York->Chicago->Phoenix\n"
     ]
    }
   ],
   "source": [
    "testSP('Boston', 'Phoenix')"
   ]
  },
  {
   "cell_type": "markdown",
   "metadata": {},
   "source": [
    "# Breadth first search"
   ]
  },
  {
   "cell_type": "code",
   "execution_count": 22,
   "metadata": {},
   "outputs": [],
   "source": [
    "def BFS(graph, start, end, toPrint = False):\n",
    "    \n",
    "    initPath = [start]\n",
    "    pathQueue = [initPath]\n",
    "    \n",
    "    if toPrint:\n",
    "        print('Current BFS path: ', printPath(pathQueue))\n",
    "    \n",
    "    while len(pathQueue) != 0:\n",
    "        #get and remove oldest element in pathQueue\n",
    "        \n",
    "        tmpPath = pathQueue.pop(0)\n",
    "        print('Current BFS path: ', printPath(tmpPath))\n",
    "        \n",
    "        lastNode = tmpPath[-1]\n",
    "        \n",
    "        if lastNode == end:\n",
    "            return tmpPath\n",
    "        \n",
    "        for nextNode in graph.childrenOf(lastNode):\n",
    "            if nextNode not in tmpPath:\n",
    "                newPath = tmpPath + [nextNode]\n",
    "                pathQueue.append(newPath)\n",
    "                \n",
    "    return None"
   ]
  },
  {
   "cell_type": "code",
   "execution_count": 25,
   "metadata": {},
   "outputs": [
    {
     "name": "stdout",
     "output_type": "stream",
     "text": [
      "Current BFS path:  [<__main__.Node object at 0x00000165C63C7CC0>]\n",
      "Current BFS path:  Los Angeles\n",
      "Current BFS path:  Los Angeles->Boston\n",
      "Current BFS path:  Los Angeles->Boston->Providence\n",
      "Current BFS path:  Los Angeles->Boston->New York\n",
      "Current BFS path:  Los Angeles->Boston->Providence->New York\n",
      "Current BFS path:  Los Angeles->Boston->New York->Chicago\n",
      "Shortest path from  Los Angeles  to  Chicago  is  Los Angeles->Boston->New York->Chicago\n"
     ]
    }
   ],
   "source": [
    "def shortestPath(graph, start, end, toPrint = False):\n",
    "    return BFS(graph, start, end, toPrint)\n",
    "\n",
    "def testSP(source, destination):\n",
    "    \n",
    "    g = buildCityGraph(Digraph)\n",
    "    sp = shortestPath(g, g.getNode(source), g.getNode(destination), toPrint = True)\n",
    "    \n",
    "    if sp != None:\n",
    "        print(\"Shortest path from \", source, \" to \",destination ,' is ', printPath(sp))\n",
    "        \n",
    "    else:\n",
    "        print(\"No path from \", source, \" to \",destination )\n",
    "\n",
    "testSP('Los Angeles','Chicago')"
   ]
  },
  {
   "cell_type": "code",
   "execution_count": 29,
   "metadata": {},
   "outputs": [],
   "source": [
    "class WeightedEdge(Edge):\n",
    "    def __init__(self, src, dest, weight):\n",
    "        self.src = src\n",
    "        self.dest = dest\n",
    "        self.weight = weight\n",
    "        \n",
    "    def getWeight(self):\n",
    "        return self.weight\n",
    "    \n",
    "    def __str__(self):\n",
    "        return self.src.getName() + \"->\" + self.dest.getName() + \" (\"+str(self.weight)+\")\""
   ]
  },
  {
   "cell_type": "code",
   "execution_count": null,
   "metadata": {},
   "outputs": [],
   "source": []
  }
 ],
 "metadata": {
  "kernelspec": {
   "display_name": "Python 3",
   "language": "python",
   "name": "python3"
  },
  "language_info": {
   "codemirror_mode": {
    "name": "ipython",
    "version": 3
   },
   "file_extension": ".py",
   "mimetype": "text/x-python",
   "name": "python",
   "nbconvert_exporter": "python",
   "pygments_lexer": "ipython3",
   "version": "3.6.4"
  }
 },
 "nbformat": 4,
 "nbformat_minor": 2
}
