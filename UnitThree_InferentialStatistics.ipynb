{
 "cells": [
  {
   "cell_type": "code",
   "execution_count": 3,
   "metadata": {},
   "outputs": [
    {
     "name": "stdout",
     "output_type": "stream",
     "text": [
      "1000000 spins of Fair Roulette\n",
      "Expected return betting red = -0.133%\n",
      "Expected return betting black = 0.133%\n",
      "Expected return betting 2 = -0.3268%\n",
      "\n"
     ]
    },
    {
     "data": {
      "text/plain": [
       "(-0.00133, 0.00133, -0.003268)"
      ]
     },
     "execution_count": 3,
     "metadata": {},
     "output_type": "execute_result"
    }
   ],
   "source": [
    "import random, pylab\n",
    "\n",
    "class FairRoulette():\n",
    "    \n",
    "    def __init__(self):\n",
    "        self.pockets = []\n",
    "        \n",
    "        for i in range(1,37):\n",
    "            self.pockets.append(i)\n",
    "        self.ball = None\n",
    "        self.blackOdds, self.redOdds = 1.0, 1.0  #We win a dollar if our colour comes up. Equal chance of either colour coming up since it is fair\n",
    "        self.pocketOdds = len(self.pockets) - 1.0\n",
    "        \n",
    "    def spin(self):\n",
    "        self.ball = random.choice(self.pockets)\n",
    "        \n",
    "    def isBlack(self):\n",
    "        \n",
    "        if type(self.ball) != int:  # Just error checking\n",
    "            return False\n",
    "        if ((self.ball > 0 and self.ball <=10) or (self.ball>18 and self.ball<=28)):\n",
    "            return self.ball%2 == 0\n",
    "        \n",
    "        else:\n",
    "            return self.ball%2 == 1\n",
    "        \n",
    "    def isRed(self):\n",
    "        return type(self.ball) == int and not self.isBlack()\n",
    "    \n",
    "    def betBlack(self, amt):\n",
    "        if self.isBlack():\n",
    "            return amt*self.blackOdds\n",
    "        else:\n",
    "            return -amt\n",
    "        \n",
    "    def betRed(self, amt):\n",
    "        if self.isRed():\n",
    "            return amt*self.redOdds\n",
    "        else:\n",
    "            return -amt*self.redOdds\n",
    "        \n",
    "    def betPocket(self,pocket, amt):\n",
    "        if str(pocket) == str(self.ball):\n",
    "            return amt*self.pocketOdds\n",
    "        else:\n",
    "            return -amt\n",
    "        \n",
    "    def __str__(self):\n",
    "        return 'Fair Roulette'\n",
    "    \n",
    "def playRoulette(game, numSpins, toPrint = True):\n",
    "    luckyNumber = '2'\n",
    "    bet = 1\n",
    "    totRed, totBlack, totPocket = 0.0, 0.0, 0.0\n",
    "    \n",
    "    for i in range(numSpins):\n",
    "        game.spin()\n",
    "        totRed += game.betRed(bet)\n",
    "        totBlack += game.betBlack(bet)\n",
    "        totPocket += game.betPocket(luckyNumber, bet)\n",
    "    \n",
    "    if toPrint:\n",
    "        print(numSpins, 'spins of', game)\n",
    "        \n",
    "        print('Expected return betting red =', str(100*totRed/numSpins)+'%')\n",
    "        print('Expected return betting black =', str(100*totBlack/numSpins) + '%')\n",
    "        print('Expected return betting', luckyNumber, '=',str(100*totPocket/numSpins) + '%\\n')\n",
    "        \n",
    "    return (totRed/numSpins, totBlack/numSpins, totPocket/numSpins)\n",
    "\n",
    "numSpins = 1000000\n",
    "game = FairRoulette()\n",
    "playRoulette(game, numSpins)"
   ]
  },
  {
   "cell_type": "code",
   "execution_count": 4,
   "metadata": {},
   "outputs": [
    {
     "name": "stdout",
     "output_type": "stream",
     "text": [
      "\n",
      "Simulate betting a pocket for 20 trials of 100 spins each.\n",
      "Expected return for Fair Roulette = 6.199999999999998%\n",
      "Expected return for European Roulette = -8.200000000000001%\n",
      "Expected return for American Roulette = 2.599999999999998%\n",
      "\n",
      "Simulate betting a pocket for 20 trials of 1000 spins each.\n",
      "Expected return for Fair Roulette = 4.760000000000002%\n",
      "Expected return for European Roulette = -2.4399999999999995%\n",
      "Expected return for American Roulette = -9.46%\n",
      "\n",
      "Simulate betting a pocket for 20 trials of 10000 spins each.\n",
      "Expected return for Fair Roulette = -1.3060000000000003%\n",
      "Expected return for European Roulette = -4.095999999999999%\n",
      "Expected return for American Roulette = -5.698000000000001%\n",
      "\n",
      "Simulate betting a pocket for 20 trials of 100000 spins each.\n",
      "Expected return for Fair Roulette = 0.7982%\n",
      "Expected return for European Roulette = -2.5876000000000006%\n",
      "Expected return for American Roulette = -5.134600000000001%\n"
     ]
    }
   ],
   "source": [
    "class EuRoulette(FairRoulette):\n",
    "    def __init__(self):\n",
    "        FairRoulette.__init__(self)\n",
    "        self.pockets.append('0')\n",
    "    def __str__(self):\n",
    "        return \"European Roulette\"\n",
    "    \n",
    "class AmRoulette(EuRoulette):\n",
    "    def __init__(self):\n",
    "        EuRoulette.__init__(self)\n",
    "        self.pockets.append(\"00\")\n",
    "    def __str__(self):\n",
    "        return \"American Roulette\"\n",
    "    \n",
    "def findPocketReturn(game, numTrials, trialSize, toPrint):\n",
    "    pocketReturns = []\n",
    "    \n",
    "    for t in range(numTrials):\n",
    "        trialVals = playRoulette(game, trialSize, toPrint)\n",
    "        pocketReturns.append(trialVals[2])\n",
    "        \n",
    "    return pocketReturns\n",
    "\n",
    "random.seed(0)\n",
    "numTrials = 20\n",
    "resultDict = {}\n",
    "games = (FairRoulette, EuRoulette, AmRoulette)\n",
    "for G in games:\n",
    "    resultDict[G().__str__()] =[]\n",
    "    \n",
    "for numSpins in (100, 1000, 10000, 100000):\n",
    "    print('\\nSimulate betting a pocket for', numTrials, 'trials of', numSpins, 'spins each.')\n",
    "    \n",
    "    for G in games:\n",
    "        pocketReturns = findPocketReturn(G(), numTrials, numSpins, False)\n",
    "        print('Expected return for', G(), '=', str(100*sum(pocketReturns)/float(len(pocketReturns))) + '%')\n",
    "\n",
    "        "
   ]
  },
  {
   "cell_type": "code",
   "execution_count": 5,
   "metadata": {},
   "outputs": [
    {
     "name": "stdout",
     "output_type": "stream",
     "text": [
      "\n",
      "Simulate betting a pocket for 20 trials of 100 spins each.\n",
      "Expected return for Fair Roulette = 6.2%  +/- 152.114% with 95% confidence\n",
      "Exp\n",
      "Expected return for European Roulette = -8.2%  +/- 90.567% with 95% confidence\n",
      "Exp\n",
      "Expected return for American Roulette = 2.6%  +/- 92.74% with 95% confidence\n",
      "Exp\n",
      "\n",
      "Simulate betting a pocket for 20 trials of 1000 spins each.\n",
      "Expected return for Fair Roulette = 4.76%  +/- 39.658% with 95% confidence\n",
      "Exp\n",
      "Expected return for European Roulette = -2.44%  +/- 31.31% with 95% confidence\n",
      "Exp\n",
      "Expected return for American Roulette = -9.46%  +/- 36.273% with 95% confidence\n",
      "Exp\n",
      "\n",
      "Simulate betting a pocket for 20 trials of 10000 spins each.\n",
      "Expected return for Fair Roulette = -1.306%  +/- 9.295% with 95% confidence\n",
      "Exp\n",
      "Expected return for European Roulette = -4.096%  +/- 10.902% with 95% confidence\n",
      "Exp\n",
      "Expected return for American Roulette = -5.698%  +/- 11.077% with 95% confidence\n",
      "Exp\n",
      "\n",
      "Simulate betting a pocket for 20 trials of 100000 spins each.\n",
      "Expected return for Fair Roulette = 0.798%  +/- 2.603% with 95% confidence\n",
      "Exp\n",
      "Expected return for European Roulette = -2.588%  +/- 4.103% with 95% confidence\n",
      "Exp\n",
      "Expected return for American Roulette = -5.135%  +/- 4.734% with 95% confidence\n",
      "Exp\n"
     ]
    }
   ],
   "source": [
    "def getMeanAndStd(X):\n",
    "    mean = sum(X) / float(len(X))\n",
    "    tot = 0.0\n",
    "    for x in X:\n",
    "        tot += (x - mean) ** 2\n",
    "    std = (tot/len(X))**0.5\n",
    "    return mean, std\n",
    "\n",
    "random.seed(0)\n",
    "numTrials = 20\n",
    "resultDict = {}\n",
    "games = (FairRoulette, EuRoulette, AmRoulette)\n",
    "for G in games:\n",
    "    resultDict[G().__str__()] =[]\n",
    "    \n",
    "for numSpins in (100, 1000, 10000, 100000):\n",
    "    print('\\nSimulate betting a pocket for', numTrials, 'trials of', numSpins, 'spins each.')\n",
    "    \n",
    "    for G in games:\n",
    "        pocketReturns = findPocketReturn(G(), numTrials, numSpins, False)\n",
    "        mean, std = getMeanAndStd(pocketReturns)\n",
    "        resultDict[G().__str__()].append((numSpins, 100*mean, 100*std))\n",
    "        print('Expected return for', G(), '=', str(round(100*mean, 3))+ '% ', '+/- ' + str(round(100*1.96 * std, 3)) + '% with 95% confidence')\n",
    "\n",
    "        print('Exp')"
   ]
  },
  {
   "cell_type": "markdown",
   "metadata": {},
   "source": [
    "Write a function, stdDevOfLengths(L) that takes in a list of strings, L, and outputs the standard deviation of the lengths of the strings. Return float('NaN') if L is empty."
   ]
  },
  {
   "cell_type": "code",
   "execution_count": 6,
   "metadata": {},
   "outputs": [],
   "source": [
    "def stdDevOfLengths(L):\n",
    "    \"\"\"\n",
    "    L: a list of strings\n",
    "\n",
    "    returns: float, the standard deviation of the lengths of the strings,\n",
    "      or NaN if L is empty.\n",
    "    \"\"\"\n",
    "    if L == []:\n",
    "        return float('NaN')\n",
    "    \n",
    "    lenL = []\n",
    "    \n",
    "    for string in L:\n",
    "        lenL.append(len(string))\n",
    "    \n",
    "    tot = 0\n",
    "    stdDev = 0\n",
    "    mean = sum(lenL)/ float(len(lenL))\n",
    "    \n",
    "    for x in lenL:\n",
    "        tot += (x - mean)**2\n",
    "        \n",
    "    stdDev = (float(tot) / len(lenL)) ** 0.5\n",
    "    \n",
    "    return stdDev\n",
    "    "
   ]
  },
  {
   "cell_type": "code",
   "execution_count": 7,
   "metadata": {},
   "outputs": [],
   "source": [
    "m , sd = getMeanAndStd( [10, 4, 12, 15, 20, 5])"
   ]
  },
  {
   "cell_type": "code",
   "execution_count": 8,
   "metadata": {},
   "outputs": [
    {
     "data": {
      "text/plain": [
       "0.5034317492677621"
      ]
     },
     "execution_count": 8,
     "metadata": {},
     "output_type": "execute_result"
    }
   ],
   "source": [
    "sd/ m"
   ]
  },
  {
   "cell_type": "code",
   "execution_count": 9,
   "metadata": {},
   "outputs": [
    {
     "data": {
      "image/png": "[encoded data removed]",
      "text/plain": [
       "<matplotlib.figure.Figure at 0x23230c1e748>"
      ]
     },
     "metadata": {
      "needs_background": "light"
     },
     "output_type": "display_data"
    }
   ],
   "source": [
    "import random, pylab\n",
    "dist = []\n",
    "x = []\n",
    "for i in range(100000):\n",
    "    x.append(i)\n",
    "    dist.append(random.gauss(0,30))\n",
    "    \n",
    "# pylab.hist(dist, 30)\n",
    "pylab.hist(dist, 30)\n",
    "pylab.show()"
   ]
  },
  {
   "cell_type": "code",
   "execution_count": 10,
   "metadata": {},
   "outputs": [
    {
     "name": "stdout",
     "output_type": "stream",
     "text": [
      "mu =  -2 and sigma =  8\n",
      " Fraction within 1 std =  68.2689492137086\n",
      " Fraction within 1.96 std =  95.00042097035592\n",
      " Fraction within 3 std =  99.730020393674\n",
      "mu =  7 and sigma =  7\n",
      " Fraction within 1 std =  68.26894921370861\n",
      " Fraction within 1.96 std =  95.00042097035593\n",
      " Fraction within 3 std =  99.730020393674\n",
      "mu =  -4 and sigma =  10\n",
      " Fraction within 1 std =  68.26894921370861\n",
      " Fraction within 1.96 std =  95.00042097035592\n",
      " Fraction within 3 std =  99.73002039367402\n"
     ]
    }
   ],
   "source": [
    "import scipy.integrate\n",
    "\n",
    "def gaussian(x, mu, sigma):\n",
    "    factor1 = (1.0/ (sigma*((2*pylab.pi)**0.5)))\n",
    "    factor2 = pylab.e** -(((x-mu)**2)/(2*sigma**2))\n",
    "    return factor1 * factor2\n",
    "\n",
    "def checkEmpirical(numTrials):\n",
    "    for t in range(numTrials):\n",
    "        mu = random.randint(-10, 10)\n",
    "        sigma = random.randint(1, 10)\n",
    "        print(\"mu = \", mu, \"and sigma = \", sigma )\n",
    "        for numStd in (1, 1.96, 3):\n",
    "            area = scipy.integrate.quad(gaussian, mu-numStd * sigma, mu+numStd*sigma, (mu, sigma) )[0]\n",
    "            print(' Fraction within', numStd, 'std = ', area*100)\n",
    "            \n",
    "checkEmpirical(3)"
   ]
  },
  {
   "cell_type": "code",
   "execution_count": 11,
   "metadata": {},
   "outputs": [
    {
     "name": "stdout",
     "output_type": "stream",
     "text": [
      "Mean of rolling 1 die =  2.5009636448931714, Std = 1.444440660772378\n",
      "Mean of rolling 50 dice =  2.501061161821491, Std = 0.1996178322316606\n"
     ]
    },
    {
     "data": {
      "text/plain": [
       "<matplotlib.legend.Legend at 0x232329d5940>"
      ]
     },
     "execution_count": 11,
     "metadata": {},
     "output_type": "execute_result"
    },
    {
     "data": {
      "image/png": "[encoded data removed]",
      "text/plain": [
       "<matplotlib.figure.Figure at 0x23231214ba8>"
      ]
     },
     "metadata": {
      "needs_background": "light"
     },
     "output_type": "display_data"
    }
   ],
   "source": [
    "# Central Limit theorem\n",
    "import random, pylab\n",
    "def plotMeans(numDice, numRolls, numBins, legend, color, style):\n",
    "    \n",
    "    means = []\n",
    "    for i in range(numRolls//numDice):\n",
    "        vals = 0\n",
    "        for j in range(numDice):\n",
    "            vals += 5*random.random()\n",
    "        means.append(vals/float(numDice))\n",
    "    pylab.hist(means, numBins, color = color, label = legend, weights = pylab.array(len(means)*[1])/len(means), hatch = style)\n",
    "    return getMeanAndStd(means)\n",
    "\n",
    "mean, std = plotMeans(1, 100000, 19, '1 die', 'b','*')\n",
    "print('Mean of rolling 1 die = ', str(mean) + ',', 'Std =',std)\n",
    "\n",
    "mean, std = plotMeans(50, 100000, 19, 'Mean of 50 dice', 'r','//')\n",
    "print('Mean of rolling 50 dice = ', str(mean) + ',', 'Std =',std)\n",
    "pylab.title('Rolling Continuous Dice')\n",
    "pylab.xlabel('Value')\n",
    "pylab.ylabel('Probability')\n",
    "pylab.legend()\n"
   ]
  },
  {
   "cell_type": "code",
   "execution_count": 15,
   "metadata": {},
   "outputs": [
    {
     "data": {
      "image/png": "[encoded data removed]",
      "text/plain": [
       "<matplotlib.figure.Figure at 0x2322f514470>"
      ]
     },
     "metadata": {
      "needs_background": "light"
     },
     "output_type": "display_data"
    }
   ],
   "source": [
    "numTrials = 50000\n",
    "numSpins = 200\n",
    "game = FairRoulette()\n",
    "\n",
    "means = []\n",
    "for i in range(numTrials):\n",
    "    means.append(findPocketReturn(game, 1, numSpins, False)[0] / numSpins)\n",
    "    \n",
    "pylab.hist(means, bins = 19, weights = pylab.array(len(means)*[1])/ len(means))\n",
    "pylab.xlabel('Mean Return')\n",
    "pylab.ylabel('Probability')\n",
    "pylab.title('Expected Return Betting a Pocket')\n",
    "pylab.show()"
   ]
  },
  {
   "cell_type": "code",
   "execution_count": 18,
   "metadata": {},
   "outputs": [
    {
     "name": "stdout",
     "output_type": "stream",
     "text": [
      "Est. = 3.140080000000001, StdDev = 0.053907, Needles = 1000\n",
      "Est. = 3.14372, StdDev = 0.036318, Needles = 2000\n",
      "Est. = 3.13789, StdDev = 0.025965, Needles = 4000\n",
      "Est. = 3.141149999999998, StdDev = 0.01939, Needles = 8000\n",
      "Est. = 3.1419574999999993, StdDev = 0.012871, Needles = 16000\n",
      "Est. = 3.140923750000001, StdDev = 0.009346, Needles = 32000\n",
      "Est. = 3.1414225, StdDev = 0.007127, Needles = 64000\n",
      "Est. = 3.1419396874999994, StdDev = 0.004843, Needles = 128000\n",
      "Est. = 3.1417750000000013, StdDev = 0.003749, Needles = 256000\n",
      "Est. = 3.141720468750001, StdDev = 0.002242, Needles = 512000\n"
     ]
    },
    {
     "data": {
      "text/plain": [
       "3.141720468750001"
      ]
     },
     "execution_count": 18,
     "metadata": {},
     "output_type": "execute_result"
    }
   ],
   "source": [
    "# Simulating Buffon Laplace method\n",
    "\n",
    "def throwNeedles(numNeedles):\n",
    "    \n",
    "    inCircle = 0\n",
    "    for needles in range(1, numNeedles+1, 1):\n",
    "        x = random.random()\n",
    "        y = random.random()\n",
    "        if (x*x + y*y) ** 0.5 <= 1.0:\n",
    "            inCircle += 1\n",
    "    return 4 * (inCircle/ float(numNeedles))\n",
    "\n",
    "def getEst(numNeedles, numTrials):\n",
    "    estimates = []\n",
    "    for t in range(numTrials):\n",
    "        piGuess = throwNeedles(numNeedles)\n",
    "        estimates.append(piGuess)\n",
    "    sDev = getMeanAndStd(estimates)[1]\n",
    "    curEst = sum(estimates)/len(estimates)\n",
    "    print('Est. = ' + str(curEst) + ', StdDev = ' +str(round(sDev, 6)) + ', Needles = '+str(numNeedles))\n",
    "    return (curEst, sDev)\n",
    "\n",
    "def estPi(precision, numTrials):\n",
    "    numNeedles = 1000\n",
    "    sDev = precision\n",
    "    while sDev >= precision/2:\n",
    "        curEst,sDev = getEst(numNeedles,numTrials)\n",
    "        numNeedles*= 2\n",
    "    return curEst\n",
    "\n",
    "estPi(0.005, 100)"
   ]
  },
  {
   "cell_type": "code",
   "execution_count": 69,
   "metadata": {},
   "outputs": [],
   "source": [
    "def noReplacementSimulation(numTrials):\n",
    "    '''\n",
    "    Runs numTrials trials of a Monte Carlo simulation\n",
    "    of drawing 3 balls out of a bucket containing\n",
    "    3 red and 3 green balls. Balls are not replaced once\n",
    "    drawn. Returns the a decimal - the fraction of times 3 \n",
    "    balls of the same color were drawn.\n",
    "    '''\n",
    "    # Your code here\n",
    "    \n",
    "    trueBucket = [0, 1, 0, 1, 1, 0]\n",
    "    sameColour = 0\n",
    "    \n",
    "    for trials in range(numTrials):\n",
    "        chosen = []\n",
    "        bucket = trueBucket[:]\n",
    "        # 1 for red balls, 0 for green balls\n",
    "        while len(chosen) < 3:\n",
    "            poped = bucket.pop(random.randint(0,len(bucket)-1))\n",
    "            chosen.append(poped)\n",
    "#         print(chosen)\n",
    "        if 0 not in chosen or 1 not in chosen:\n",
    "            sameColour += 1\n",
    "            \n",
    "    return sameColour / numTrials"
   ]
  },
  {
   "cell_type": "code",
   "execution_count": 70,
   "metadata": {},
   "outputs": [
    {
     "data": {
      "text/plain": [
       "True"
      ]
     },
     "execution_count": 70,
     "metadata": {},
     "output_type": "execute_result"
    }
   ],
   "source": [
    "L = [0, 1, 0, 1, 1, 0]\n",
    "l = [0, 0, 0 , 0]\n",
    "0 not in L or 1 not in l"
   ]
  },
  {
   "cell_type": "code",
   "execution_count": 72,
   "metadata": {},
   "outputs": [
    {
     "name": "stdout",
     "output_type": "stream",
     "text": [
      "[1, 1, 0]\n",
      "[0, 1, 0]\n",
      "[1, 0, 0]\n",
      "[1, 1, 1]\n",
      "[1, 1, 0]\n",
      "[0, 0, 1]\n",
      "[0, 0, 1]\n",
      "[0, 1, 0]\n",
      "[1, 0, 0]\n",
      "[0, 0, 1]\n",
      "[0, 0, 1]\n",
      "[1, 0, 0]\n",
      "[1, 0, 0]\n",
      "[0, 0, 0]\n",
      "[1, 0, 0]\n",
      "[1, 1, 0]\n",
      "[0, 0, 0]\n",
      "[1, 0, 0]\n",
      "[0, 0, 0]\n",
      "[0, 1, 0]\n",
      "[0, 1, 1]\n",
      "[1, 0, 1]\n",
      "[0, 0, 1]\n",
      "[1, 1, 0]\n",
      "[0, 0, 0]\n",
      "[0, 0, 1]\n",
      "[1, 0, 0]\n",
      "[0, 1, 0]\n",
      "[1, 1, 1]\n",
      "[1, 0, 1]\n",
      "[0, 1, 1]\n",
      "[0, 1, 0]\n",
      "[1, 0, 0]\n",
      "[0, 0, 1]\n",
      "[1, 1, 0]\n",
      "[1, 1, 1]\n",
      "[1, 0, 1]\n",
      "[1, 1, 0]\n",
      "[0, 1, 0]\n",
      "[1, 1, 0]\n",
      "[0, 0, 0]\n",
      "[1, 0, 0]\n",
      "[1, 0, 1]\n",
      "[0, 1, 1]\n",
      "[1, 0, 1]\n",
      "[1, 0, 0]\n",
      "[0, 1, 0]\n",
      "[1, 0, 1]\n",
      "[1, 0, 0]\n",
      "[0, 1, 0]\n",
      "[0, 1, 1]\n",
      "[0, 1, 1]\n",
      "[1, 1, 0]\n",
      "[0, 0, 1]\n",
      "[0, 0, 0]\n",
      "[0, 0, 1]\n",
      "[0, 0, 1]\n",
      "[1, 1, 0]\n",
      "[1, 0, 0]\n",
      "[1, 1, 0]\n",
      "[0, 1, 1]\n",
      "[0, 1, 1]\n",
      "[1, 1, 0]\n",
      "[1, 1, 0]\n",
      "[0, 1, 0]\n",
      "[0, 0, 0]\n",
      "[1, 0, 1]\n",
      "[0, 1, 1]\n",
      "[0, 0, 1]\n",
      "[1, 0, 1]\n",
      "[0, 1, 0]\n",
      "[1, 0, 1]\n",
      "[1, 0, 0]\n",
      "[0, 0, 1]\n",
      "[1, 0, 0]\n",
      "[1, 0, 0]\n",
      "[1, 1, 0]\n",
      "[1, 0, 1]\n",
      "[0, 0, 0]\n",
      "[1, 1, 0]\n",
      "[1, 0, 0]\n",
      "[0, 0, 1]\n",
      "[1, 0, 1]\n",
      "[0, 1, 0]\n",
      "[0, 1, 0]\n",
      "[1, 0, 0]\n",
      "[1, 0, 1]\n",
      "[0, 0, 1]\n",
      "[1, 1, 0]\n",
      "[1, 0, 0]\n",
      "[1, 0, 0]\n",
      "[0, 0, 0]\n",
      "[1, 0, 0]\n",
      "[0, 1, 0]\n",
      "[1, 0, 0]\n",
      "[1, 1, 1]\n",
      "[1, 1, 1]\n",
      "[0, 1, 0]\n",
      "[1, 0, 1]\n",
      "[0, 1, 1]\n"
     ]
    },
    {
     "data": {
      "text/plain": [
       "0.14"
      ]
     },
     "execution_count": 72,
     "metadata": {},
     "output_type": "execute_result"
    }
   ],
   "source": [
    "numTrials = 100\n",
    "noReplacementSimulation(numTrials)"
   ]
  },
  {
   "cell_type": "code",
   "execution_count": null,
   "metadata": {},
   "outputs": [],
   "source": []
  }
 ],
 "metadata": {
  "kernelspec": {
   "display_name": "Python 3",
   "language": "python",
   "name": "python3"
  },
  "language_info": {
   "codemirror_mode": {
    "name": "ipython",
    "version": 3
   },
   "file_extension": ".py",
   "mimetype": "text/x-python",
   "name": "python",
   "nbconvert_exporter": "python",
   "pygments_lexer": "ipython3",
   "version": "3.6.4"
  }
 },
 "nbformat": 4,
 "nbformat_minor": 2
}
